{
  "cells": [
    {
      "cell_type": "code",
      "source": [
        "%%pyspark\r\n",
        "df = spark.read.load('abfss://datalake@streamdatalake.dfs.core.windows.net/Raw/DimCustomer/Year=*/Month=*/Day=*/File=*/*.snappy.parquet', format='parquet')"
      ],
      "outputs": [
        {
          "output_type": "display_data",
          "data": {
            "application/vnd.livy.statement-meta+json": {
              "spark_pool": "poolstreamming",
              "session_id": "26",
              "statement_id": 7,
              "state": "finished",
              "livy_statement_state": "available",
              "queued_time": "2022-07-29T03:28:56.9785347Z",
              "session_start_time": null,
              "execution_start_time": "2022-07-29T03:28:57.1288963Z",
              "execution_finish_time": "2022-07-29T03:28:58.9617559Z",
              "spark_jobs": null
            },
            "text/plain": "StatementMeta(poolstreamming, 26, 7, Finished, Available)"
          },
          "metadata": {}
        }
      ],
      "execution_count": 12,
      "metadata": {
        "microsoft": {
          "language": "python"
        },
        "collapsed": false
      }
    },
    {
      "cell_type": "code",
      "source": [
        "\r\n",
        "from pyspark.sql import SparkSession,Row\r\n",
        "\r\n",
        "df.printSchema()\r\n"
      ],
      "outputs": [
        {
          "output_type": "display_data",
          "data": {
            "application/vnd.livy.statement-meta+json": {
              "spark_pool": "poolstreamming",
              "session_id": "26",
              "statement_id": 9,
              "state": "finished",
              "livy_statement_state": "available",
              "queued_time": "2022-07-29T03:29:10.7054662Z",
              "session_start_time": null,
              "execution_start_time": "2022-07-29T03:29:10.8035445Z",
              "execution_finish_time": "2022-07-29T03:29:10.9737848Z",
              "spark_jobs": null
            },
            "text/plain": "StatementMeta(poolstreamming, 26, 9, Finished, Available)"
          },
          "metadata": {}
        },
        {
          "output_type": "stream",
          "name": "stdout",
          "text": [
            "root\n |-- Body: string (nullable = true)\n |-- EnqueuedTimeUtc: string (nullable = true)\n |-- CustomerID: string (nullable = true)\n\n"
          ]
        }
      ],
      "execution_count": 14,
      "metadata": {
        "jupyter": {
          "source_hidden": false,
          "outputs_hidden": false
        },
        "nteract": {
          "transient": {
            "deleting": false
          }
        }
      }
    },
    {
      "cell_type": "code",
      "source": [
        "\r\n",
        "# Create Schema of the JSON column\r\n",
        "from pyspark.sql.types import StructType,StructField, StringType\r\n",
        "schema = StructType([ \r\n",
        "    StructField(\"CustomerKey\",StringType(),True),\r\n",
        "StructField(\"GeographyKey\",StringType(),True),\r\n",
        "StructField(\"CustomerAlternateKey\",StringType(),True),\r\n",
        "StructField(\"MaritalStatus\",StringType(),True),\r\n",
        "StructField(\"Gender\",StringType(),True),\r\n",
        "StructField(\"SalaryYear\",StringType(),True),\r\n",
        "StructField(\"TotalChildren\",StringType(),True),\r\n",
        "StructField(\"NumberChildrenAtHome\",StringType(),True),\r\n",
        "StructField(\"EnglishEducation\",StringType(),True),\r\n",
        "StructField(\"EnglishOccupation\",StringType(),True),\r\n",
        "StructField(\"HouseOwnerFlag\",StringType(),True),\r\n",
        "StructField(\"NumberCarsOwned\",StringType(),True),\r\n",
        "StructField(\"CommuteDistance\",StringType(),True),\r\n",
        "StructField(\"Region\",StringType(),True),\r\n",
        "StructField(\"Age\",StringType(),True),\r\n",
        "StructField(\"BikeBuyer\",StringType(),True)\r\n",
        "  ])\r\n"
      ],
      "outputs": [
        {
          "output_type": "display_data",
          "data": {
            "application/vnd.livy.statement-meta+json": {
              "spark_pool": "poolstreamming",
              "session_id": "26",
              "statement_id": 10,
              "state": "finished",
              "livy_statement_state": "available",
              "queued_time": "2022-07-29T03:31:00.0180407Z",
              "session_start_time": null,
              "execution_start_time": "2022-07-29T03:31:00.1913568Z",
              "execution_finish_time": "2022-07-29T03:31:00.3591523Z",
              "spark_jobs": null
            },
            "text/plain": "StatementMeta(poolstreamming, 26, 10, Finished, Available)"
          },
          "metadata": {}
        }
      ],
      "execution_count": 15,
      "metadata": {
        "jupyter": {
          "source_hidden": false,
          "outputs_hidden": false
        },
        "nteract": {
          "transient": {
            "deleting": false
          }
        }
      }
    },
    {
      "cell_type": "code",
      "source": [
        "\r\n",
        "\r\n",
        "#Convert json column to multiple columns\r\n",
        "from pyspark.sql.functions import col,from_json\r\n",
        "dfJSON = df.withColumn(\"jsonData\",from_json(col(\"Body\"),schema)) \\\r\n",
        "                   .select(\"jsonData.*\")\r\n",
        "dfJSON.printSchema()\r\n",
        "dfJSON.show(truncate=False)\r\n",
        "\r\n"
      ],
      "outputs": [
        {
          "output_type": "display_data",
          "data": {
            "application/vnd.livy.statement-meta+json": {
              "spark_pool": "poolstreamming",
              "session_id": "26",
              "statement_id": 11,
              "state": "finished",
              "livy_statement_state": "available",
              "queued_time": "2022-07-29T03:31:02.3294837Z",
              "session_start_time": null,
              "execution_start_time": "2022-07-29T03:31:02.4578307Z",
              "execution_finish_time": "2022-07-29T03:31:03.5208743Z",
              "spark_jobs": null
            },
            "text/plain": "StatementMeta(poolstreamming, 26, 11, Finished, Available)"
          },
          "metadata": {}
        },
        {
          "output_type": "stream",
          "name": "stdout",
          "text": [
            "root\n |-- CustomerKey: string (nullable = true)\n |-- GeographyKey: string (nullable = true)\n |-- CustomerAlternateKey: string (nullable = true)\n |-- MaritalStatus: string (nullable = true)\n |-- Gender: string (nullable = true)\n |-- SalaryYear: string (nullable = true)\n |-- TotalChildren: string (nullable = true)\n |-- NumberChildrenAtHome: string (nullable = true)\n |-- EnglishEducation: string (nullable = true)\n |-- EnglishOccupation: string (nullable = true)\n |-- HouseOwnerFlag: string (nullable = true)\n |-- NumberCarsOwned: string (nullable = true)\n |-- CommuteDistance: string (nullable = true)\n |-- Region: string (nullable = true)\n |-- Age: string (nullable = true)\n |-- BikeBuyer: string (nullable = true)\n\n+-----------+------------+--------------------+-------------+------+----------+-------------+--------------------+----------------+-----------------+--------------+---------------+---------------+-------------+---+---------+\n|CustomerKey|GeographyKey|CustomerAlternateKey|MaritalStatus|Gender|SalaryYear|TotalChildren|NumberChildrenAtHome|EnglishEducation|EnglishOccupation|HouseOwnerFlag|NumberCarsOwned|CommuteDistance|Region       |Age|BikeBuyer|\n+-----------+------------+--------------------+-------------+------+----------+-------------+--------------------+----------------+-----------------+--------------+---------------+---------------+-------------+---+---------+\n|11000      |26          |AW00011000          |M            |M     |90000     |2            |0                   |Bachelors       |Professional     |1             |0              |1-2 Miles      |Pacific      |50 |1        |\n|11001      |37          |AW00011001          |S            |M     |60000     |3            |3                   |Bachelors       |Professional     |0             |1              |0-1 Miles      |Pacific      |46 |1        |\n|11002      |31          |AW00011002          |M            |M     |60000     |3            |3                   |Bachelors       |Professional     |1             |1              |2-5 Miles      |Pacific      |51 |1        |\n|11003      |11          |AW00011003          |S            |F     |70000     |0            |0                   |Bachelors       |Professional     |0             |1              |5-10 Miles     |Pacific      |48 |1        |\n|11004      |19          |AW00011004          |S            |F     |80000     |5            |5                   |Bachelors       |Professional     |1             |4              |1-2 Miles      |Pacific      |42 |1        |\n|11005      |22          |AW00011005          |S            |M     |70000     |0            |0                   |Bachelors       |Professional     |1             |1              |5-10 Miles     |Pacific      |45 |1        |\n|11006      |8           |AW00011006          |S            |F     |70000     |0            |0                   |Bachelors       |Professional     |1             |1              |5-10 Miles     |Pacific      |45 |1        |\n|11007      |40          |AW00011007          |M            |M     |60000     |3            |3                   |Bachelors       |Professional     |1             |2              |0-1 Miles      |Pacific      |52 |1        |\n|11008      |32          |AW00011008          |S            |F     |60000     |4            |4                   |Bachelors       |Professional     |1             |3              |10+ Miles      |Pacific      |47 |1        |\n|11009      |25          |AW00011009          |S            |M     |70000     |0            |0                   |Bachelors       |Professional     |0             |1              |5-10 Miles     |Pacific      |52 |1        |\n|11010      |22          |AW00011010          |S            |F     |70000     |0            |0                   |Bachelors       |Professional     |0             |1              |5-10 Miles     |Pacific      |52 |1        |\n|11011      |22          |AW00011011          |M            |M     |60000     |4            |4                   |Bachelors       |Professional     |1             |4              |10+ Miles      |Pacific      |53 |1        |\n|11012      |611         |AW00011012          |M            |F     |100000    |2            |0                   |Bachelors       |Management       |1             |2              |1-2 Miles      |North America|43 |0        |\n|11013      |543         |AW00011013          |M            |M     |100000    |2            |0                   |Bachelors       |Management       |1             |3              |0-1 Miles      |North America|42 |0        |\n|11014      |634         |AW00011014          |S            |F     |100000    |3            |0                   |Bachelors       |Management       |0             |3              |1-2 Miles      |North America|48 |0        |\n|11015      |301         |AW00011015          |S            |F     |30000     |0            |0                   |Partial College |Skilled Manual   |0             |1              |5-10 Miles     |North America|37 |1        |\n|11016      |329         |AW00011016          |M            |M     |30000     |0            |0                   |Partial College |Skilled Manual   |1             |1              |5-10 Miles     |North America|37 |1        |\n|11017      |39          |AW00011017          |S            |F     |20000     |4            |0                   |High School     |Skilled Manual   |1             |2              |5-10 Miles     |Pacific      |72 |1        |\n|11018      |32          |AW00011018          |S            |M     |30000     |2            |0                   |Partial College |Clerical         |1             |2              |5-10 Miles     |Pacific      |66 |1        |\n|11019      |52          |AW00011019          |S            |M     |40000     |0            |0                   |High School     |Skilled Manual   |0             |2              |5-10 Miles     |North America|38 |0        |\n+-----------+------------+--------------------+-------------+------+----------+-------------+--------------------+----------------+-----------------+--------------+---------------+---------------+-------------+---+---------+\nonly showing top 20 rows\n\n"
          ]
        }
      ],
      "execution_count": 16,
      "metadata": {
        "jupyter": {
          "source_hidden": false,
          "outputs_hidden": false
        },
        "nteract": {
          "transient": {
            "deleting": false
          }
        }
      }
    },
    {
      "cell_type": "code",
      "source": [
        "dfJSON.count()"
      ],
      "outputs": [
        {
          "output_type": "display_data",
          "data": {
            "application/vnd.livy.statement-meta+json": {
              "spark_pool": "poolstreamming",
              "session_id": "26",
              "statement_id": 12,
              "state": "finished",
              "livy_statement_state": "available",
              "queued_time": "2022-07-29T03:31:07.219743Z",
              "session_start_time": null,
              "execution_start_time": "2022-07-29T03:31:07.327663Z",
              "execution_finish_time": "2022-07-29T03:31:08.4235338Z",
              "spark_jobs": null
            },
            "text/plain": "StatementMeta(poolstreamming, 26, 12, Finished, Available)"
          },
          "metadata": {}
        },
        {
          "output_type": "execute_result",
          "execution_count": 37,
          "data": {
            "text/plain": "18000"
          },
          "metadata": {}
        }
      ],
      "execution_count": 17,
      "metadata": {
        "jupyter": {
          "source_hidden": false,
          "outputs_hidden": false
        },
        "nteract": {
          "transient": {
            "deleting": false
          }
        },
        "collapsed": false
      }
    },
    {
      "cell_type": "code",
      "source": [
        "dfJSON.write.format(\"delta\").mode(\"overwrite\").saveAsTable(\"vTargetMail\")"
      ],
      "outputs": [
        {
          "output_type": "display_data",
          "data": {
            "application/vnd.livy.statement-meta+json": {
              "spark_pool": "poolstreamming",
              "session_id": "26",
              "statement_id": 13,
              "state": "finished",
              "livy_statement_state": "available",
              "queued_time": "2022-07-29T03:31:13.0456025Z",
              "session_start_time": null,
              "execution_start_time": "2022-07-29T03:31:13.183652Z",
              "execution_finish_time": "2022-07-29T03:31:48.6017831Z",
              "spark_jobs": null
            },
            "text/plain": "StatementMeta(poolstreamming, 26, 13, Finished, Available)"
          },
          "metadata": {}
        }
      ],
      "execution_count": 18,
      "metadata": {
        "jupyter": {
          "source_hidden": false,
          "outputs_hidden": false
        },
        "nteract": {
          "transient": {
            "deleting": false
          }
        }
      }
    }
  ],
  "metadata": {
    "kernelspec": {
      "name": "synapse_pyspark",
      "language": "Python",
      "display_name": "Synapse PySpark"
    },
    "language_info": {
      "name": "python"
    },
    "kernel_info": {
      "name": "synapse_pyspark"
    },
    "save_output": true,
    "synapse_widget": {
      "version": "0.1",
      "state": {}
    }
  },
  "nbformat": 4,
  "nbformat_minor": 2
}